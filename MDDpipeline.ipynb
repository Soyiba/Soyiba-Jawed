{
  "nbformat": 4,
  "nbformat_minor": 0,
  "metadata": {
    "colab": {
      "provenance": [],
      "collapsed_sections": [],
      "authorship_tag": "ABX9TyPUJT7dFtUbVHR3nnOtCpiH",
      "include_colab_link": true
    },
    "kernelspec": {
      "name": "python3",
      "display_name": "Python 3"
    },
    "language_info": {
      "name": "python"
    }
  },
  "cells": [
    {
      "cell_type": "markdown",
      "metadata": {
        "id": "view-in-github",
        "colab_type": "text"
      },
      "source": [
        "<a href=\"https://colab.research.google.com/github/Soyiba/Soyiba-Jawed/blob/gh-pages/MDDpipeline.ipynb\" target=\"_parent\"><img src=\"https://colab.research.google.com/assets/colab-badge.svg\" alt=\"Open In Colab\"/></a>"
      ]
    },
    {
      "cell_type": "code",
      "execution_count": 1,
      "metadata": {
        "colab": {
          "base_uri": "https://localhost:8080/"
        },
        "id": "uEtBr0eP0QAO",
        "outputId": "40d34b7d-3b00-4c78-bc3f-7349d566ae81"
      },
      "outputs": [
        {
          "output_type": "stream",
          "name": "stdout",
          "text": [
            "Mounted at /content/drive\n"
          ]
        }
      ],
      "source": [
        "from google.colab import drive\n",
        "drive.mount('/content/drive')"
      ]
    },
    {
      "cell_type": "code",
      "source": [
        "!pip install scikit-plot\n",
        "# memory footprint support libraries/code\n",
        "!ln -sf /opt/bin/nvidia-smi /usr/bin/nvidia-smi\n",
        "!pip install gputil\n",
        "!pip install psutil\n",
        "!pip install humanize\n",
        "!pip install pyEDFlib\n",
        "!pip install mne\n",
        "!pip install numpy"
      ],
      "metadata": {
        "id": "Ic612E7_1h21",
        "colab": {
          "base_uri": "https://localhost:8080/"
        },
        "outputId": "c8d95e7a-6fd2-46a1-af02-c409882a2bfb"
      },
      "execution_count": 2,
      "outputs": [
        {
          "output_type": "stream",
          "name": "stdout",
          "text": [
            "Looking in indexes: https://pypi.org/simple, https://us-python.pkg.dev/colab-wheels/public/simple/\n",
            "Collecting scikit-plot\n",
            "  Downloading scikit_plot-0.3.7-py3-none-any.whl (33 kB)\n",
            "Requirement already satisfied: matplotlib>=1.4.0 in /usr/local/lib/python3.7/dist-packages (from scikit-plot) (3.2.2)\n",
            "Requirement already satisfied: joblib>=0.10 in /usr/local/lib/python3.7/dist-packages (from scikit-plot) (1.2.0)\n",
            "Requirement already satisfied: scipy>=0.9 in /usr/local/lib/python3.7/dist-packages (from scikit-plot) (1.7.3)\n",
            "Requirement already satisfied: scikit-learn>=0.18 in /usr/local/lib/python3.7/dist-packages (from scikit-plot) (1.0.2)\n",
            "Requirement already satisfied: kiwisolver>=1.0.1 in /usr/local/lib/python3.7/dist-packages (from matplotlib>=1.4.0->scikit-plot) (1.4.4)\n",
            "Requirement already satisfied: cycler>=0.10 in /usr/local/lib/python3.7/dist-packages (from matplotlib>=1.4.0->scikit-plot) (0.11.0)\n",
            "Requirement already satisfied: numpy>=1.11 in /usr/local/lib/python3.7/dist-packages (from matplotlib>=1.4.0->scikit-plot) (1.21.6)\n",
            "Requirement already satisfied: pyparsing!=2.0.4,!=2.1.2,!=2.1.6,>=2.0.1 in /usr/local/lib/python3.7/dist-packages (from matplotlib>=1.4.0->scikit-plot) (3.0.9)\n",
            "Requirement already satisfied: python-dateutil>=2.1 in /usr/local/lib/python3.7/dist-packages (from matplotlib>=1.4.0->scikit-plot) (2.8.2)\n",
            "Requirement already satisfied: typing-extensions in /usr/local/lib/python3.7/dist-packages (from kiwisolver>=1.0.1->matplotlib>=1.4.0->scikit-plot) (4.1.1)\n",
            "Requirement already satisfied: six>=1.5 in /usr/local/lib/python3.7/dist-packages (from python-dateutil>=2.1->matplotlib>=1.4.0->scikit-plot) (1.15.0)\n",
            "Requirement already satisfied: threadpoolctl>=2.0.0 in /usr/local/lib/python3.7/dist-packages (from scikit-learn>=0.18->scikit-plot) (3.1.0)\n",
            "Installing collected packages: scikit-plot\n",
            "Successfully installed scikit-plot-0.3.7\n",
            "Looking in indexes: https://pypi.org/simple, https://us-python.pkg.dev/colab-wheels/public/simple/\n",
            "Collecting gputil\n",
            "  Downloading GPUtil-1.4.0.tar.gz (5.5 kB)\n",
            "Building wheels for collected packages: gputil\n",
            "  Building wheel for gputil (setup.py) ... \u001b[?25l\u001b[?25hdone\n",
            "  Created wheel for gputil: filename=GPUtil-1.4.0-py3-none-any.whl size=7411 sha256=d0d0f710b3c55aee3c24b08b930a8c0266ef73d8ee9e3fde6da6a10bf3214030\n",
            "  Stored in directory: /root/.cache/pip/wheels/6e/f8/83/534c52482d6da64622ddbf72cd93c35d2ef2881b78fd08ff0c\n",
            "Successfully built gputil\n",
            "Installing collected packages: gputil\n",
            "Successfully installed gputil-1.4.0\n",
            "Looking in indexes: https://pypi.org/simple, https://us-python.pkg.dev/colab-wheels/public/simple/\n",
            "Requirement already satisfied: psutil in /usr/local/lib/python3.7/dist-packages (5.4.8)\n",
            "Looking in indexes: https://pypi.org/simple, https://us-python.pkg.dev/colab-wheels/public/simple/\n",
            "Requirement already satisfied: humanize in /usr/local/lib/python3.7/dist-packages (0.5.1)\n",
            "Looking in indexes: https://pypi.org/simple, https://us-python.pkg.dev/colab-wheels/public/simple/\n",
            "Collecting pyEDFlib\n",
            "  Downloading pyEDFlib-0.1.30-cp37-cp37m-manylinux_2_17_x86_64.manylinux2014_x86_64.whl (2.4 MB)\n",
            "\u001b[K     |████████████████████████████████| 2.4 MB 2.1 MB/s \n",
            "\u001b[?25hRequirement already satisfied: numpy>=1.9.1 in /usr/local/lib/python3.7/dist-packages (from pyEDFlib) (1.21.6)\n",
            "Installing collected packages: pyEDFlib\n",
            "Successfully installed pyEDFlib-0.1.30\n",
            "Looking in indexes: https://pypi.org/simple, https://us-python.pkg.dev/colab-wheels/public/simple/\n",
            "Collecting mne\n",
            "  Downloading mne-1.1.1-py3-none-any.whl (7.5 MB)\n",
            "\u001b[K     |████████████████████████████████| 7.5 MB 2.1 MB/s \n",
            "\u001b[?25hRequirement already satisfied: jinja2 in /usr/local/lib/python3.7/dist-packages (from mne) (2.11.3)\n",
            "Requirement already satisfied: packaging in /usr/local/lib/python3.7/dist-packages (from mne) (21.3)\n",
            "Requirement already satisfied: tqdm in /usr/local/lib/python3.7/dist-packages (from mne) (4.64.1)\n",
            "Requirement already satisfied: numpy>=1.15.4 in /usr/local/lib/python3.7/dist-packages (from mne) (1.21.6)\n",
            "Requirement already satisfied: matplotlib in /usr/local/lib/python3.7/dist-packages (from mne) (3.2.2)\n",
            "Requirement already satisfied: scipy>=1.1.0 in /usr/local/lib/python3.7/dist-packages (from mne) (1.7.3)\n",
            "Requirement already satisfied: decorator in /usr/local/lib/python3.7/dist-packages (from mne) (4.4.2)\n",
            "Requirement already satisfied: pooch>=1.5 in /usr/local/lib/python3.7/dist-packages (from mne) (1.6.0)\n",
            "Requirement already satisfied: appdirs>=1.3.0 in /usr/local/lib/python3.7/dist-packages (from pooch>=1.5->mne) (1.4.4)\n",
            "Requirement already satisfied: requests>=2.19.0 in /usr/local/lib/python3.7/dist-packages (from pooch>=1.5->mne) (2.23.0)\n",
            "Requirement already satisfied: pyparsing!=3.0.5,>=2.0.2 in /usr/local/lib/python3.7/dist-packages (from packaging->mne) (3.0.9)\n",
            "Requirement already satisfied: certifi>=2017.4.17 in /usr/local/lib/python3.7/dist-packages (from requests>=2.19.0->pooch>=1.5->mne) (2022.9.24)\n",
            "Requirement already satisfied: idna<3,>=2.5 in /usr/local/lib/python3.7/dist-packages (from requests>=2.19.0->pooch>=1.5->mne) (2.10)\n",
            "Requirement already satisfied: urllib3!=1.25.0,!=1.25.1,<1.26,>=1.21.1 in /usr/local/lib/python3.7/dist-packages (from requests>=2.19.0->pooch>=1.5->mne) (1.24.3)\n",
            "Requirement already satisfied: chardet<4,>=3.0.2 in /usr/local/lib/python3.7/dist-packages (from requests>=2.19.0->pooch>=1.5->mne) (3.0.4)\n",
            "Requirement already satisfied: MarkupSafe>=0.23 in /usr/local/lib/python3.7/dist-packages (from jinja2->mne) (2.0.1)\n",
            "Requirement already satisfied: kiwisolver>=1.0.1 in /usr/local/lib/python3.7/dist-packages (from matplotlib->mne) (1.4.4)\n",
            "Requirement already satisfied: python-dateutil>=2.1 in /usr/local/lib/python3.7/dist-packages (from matplotlib->mne) (2.8.2)\n",
            "Requirement already satisfied: cycler>=0.10 in /usr/local/lib/python3.7/dist-packages (from matplotlib->mne) (0.11.0)\n",
            "Requirement already satisfied: typing-extensions in /usr/local/lib/python3.7/dist-packages (from kiwisolver>=1.0.1->matplotlib->mne) (4.1.1)\n",
            "Requirement already satisfied: six>=1.5 in /usr/local/lib/python3.7/dist-packages (from python-dateutil>=2.1->matplotlib->mne) (1.15.0)\n",
            "Installing collected packages: mne\n",
            "Successfully installed mne-1.1.1\n",
            "Looking in indexes: https://pypi.org/simple, https://us-python.pkg.dev/colab-wheels/public/simple/\n",
            "Requirement already satisfied: numpy in /usr/local/lib/python3.7/dist-packages (1.21.6)\n"
          ]
        }
      ]
    },
    {
      "cell_type": "code",
      "source": [
        "import glob\n",
        "import numpy as np\n",
        "import matplotlib as mpl\n",
        "import matplotlib.pyplot as plt\n",
        "import os\n",
        "from tqdm import tqdm\n",
        "import pandas as pd\n",
        "import numpy as np\n",
        "import pyedflib\n",
        "import mne\n",
        "\n",
        "\n",
        "DATA_DIR_A = '/content/drive/MyDrive/MDDdataset/controlEO/MDDEO/'\n",
        "#DATA_DIR_E = '/content/drive/MyDrive/MDDdataset/MDDEO/'\n",
        "#LABEL_C1 = 0\n",
        "#LABEL_C2 = 1\n",
        "\n",
        "def load_data():\n",
        "\n",
        "    data = []\n",
        "\n",
        "    nbFiles = 0\n",
        "\n",
        "    for fname in tqdm(sorted(os.listdir(DATA_DIR_A))):\n",
        "        img = mne.io.read_raw_edf(os.path.join(DATA_DIR_A, fname), preload=True)      \n",
        "        print(fname, \"MDD\" in fname)\n",
        "        d = {}\n",
        "\n",
        "        d[\"img\"] = img\n",
        "        for c in ['EEG A2-A1', 'EEG 23A-23R', 'EEG 24A-24R']:\n",
        "          if c not in d[\"img\"].ch_names: continue\n",
        "          d[\"img\"].drop_channels([c])\n",
        "\n",
        "        d[\"sfreq\"] = img.info[\"sfreq\"]\n",
        "        d[\"label\"] = 0 if \"MDD\" in fname else 1\n",
        "        data.append(d)\n",
        "        nbFiles += 1\n",
        "#          \n",
        "    return data\n",
        "\n",
        "data = load_data()\n",
        "\n",
        "print('Shape of data: {}'.format(np.shape(data)))\n",
        "print(\"Total len of data\", len(data))"
      ],
      "metadata": {
        "id": "htzy7v32019I",
        "colab": {
          "base_uri": "https://localhost:8080/"
        },
        "outputId": "8b333469-36be-46fe-eb80-b9a8b385f04a"
      },
      "execution_count": 3,
      "outputs": [
        {
          "output_type": "stream",
          "name": "stderr",
          "text": [
            "\r  0%|          | 0/62 [00:00<?, ?it/s]"
          ]
        },
        {
          "output_type": "stream",
          "name": "stdout",
          "text": [
            "Extracting EDF parameters from /content/drive/MyDrive/MDDdataset/controlEO/MDDEO/ H S1 EO.edf...\n",
            "EDF file detected\n",
            "Setting channel info structure...\n",
            "Creating raw.info structure...\n",
            "Reading 0 ... 89855  =      0.000 ...   350.996 secs...\n"
          ]
        },
        {
          "output_type": "stream",
          "name": "stderr",
          "text": [
            "\r  2%|▏         | 1/62 [00:03<03:32,  3.49s/it]"
          ]
        },
        {
          "output_type": "stream",
          "name": "stdout",
          "text": [
            " H S1 EO.edf False\n",
            "Extracting EDF parameters from /content/drive/MyDrive/MDDdataset/controlEO/MDDEO/ H S10 EO.edf...\n",
            "EDF file detected\n",
            "Setting channel info structure...\n",
            "Creating raw.info structure...\n",
            "Reading 0 ... 76799  =      0.000 ...   299.996 secs...\n"
          ]
        },
        {
          "output_type": "stream",
          "name": "stderr",
          "text": [
            "\r  3%|▎         | 2/62 [00:05<02:42,  2.71s/it]"
          ]
        },
        {
          "output_type": "stream",
          "name": "stdout",
          "text": [
            " H S10 EO.edf False\n",
            "Extracting EDF parameters from /content/drive/MyDrive/MDDdataset/controlEO/MDDEO/ H S11 EO.edf...\n",
            "EDF file detected\n",
            "Setting channel info structure...\n",
            "Creating raw.info structure...\n",
            "Reading 0 ... 77311  =      0.000 ...   301.996 secs...\n"
          ]
        },
        {
          "output_type": "stream",
          "name": "stderr",
          "text": [
            "\r  5%|▍         | 3/62 [00:07<02:22,  2.41s/it]"
          ]
        },
        {
          "output_type": "stream",
          "name": "stdout",
          "text": [
            " H S11 EO.edf False\n",
            "Extracting EDF parameters from /content/drive/MyDrive/MDDdataset/controlEO/MDDEO/ H S13 EO.edf...\n",
            "EDF file detected\n",
            "Setting channel info structure...\n",
            "Creating raw.info structure...\n",
            "Reading 0 ... 77567  =      0.000 ...   302.996 secs...\n"
          ]
        },
        {
          "output_type": "stream",
          "name": "stderr",
          "text": [
            "\r  6%|▋         | 4/62 [00:09<01:57,  2.02s/it]"
          ]
        },
        {
          "output_type": "stream",
          "name": "stdout",
          "text": [
            " H S13 EO.edf False\n",
            "Extracting EDF parameters from /content/drive/MyDrive/MDDdataset/controlEO/MDDEO/ H S14 EO.edf...\n",
            "EDF file detected\n",
            "Setting channel info structure...\n",
            "Creating raw.info structure...\n",
            "Reading 0 ... 49663  =      0.000 ...   193.996 secs...\n"
          ]
        },
        {
          "output_type": "stream",
          "name": "stderr",
          "text": [
            "\r  8%|▊         | 5/62 [00:10<01:38,  1.73s/it]"
          ]
        },
        {
          "output_type": "stream",
          "name": "stdout",
          "text": [
            " H S14 EO.edf False\n",
            "Extracting EDF parameters from /content/drive/MyDrive/MDDdataset/controlEO/MDDEO/ H S18 EO.edf...\n",
            "EDF file detected\n",
            "Setting channel info structure...\n",
            "Creating raw.info structure...\n",
            "Reading 0 ... 77055  =      0.000 ...   300.996 secs...\n"
          ]
        },
        {
          "output_type": "stream",
          "name": "stderr",
          "text": [
            "\r 10%|▉         | 6/62 [00:12<01:41,  1.81s/it]"
          ]
        },
        {
          "output_type": "stream",
          "name": "stdout",
          "text": [
            " H S18 EO.edf False\n",
            "Extracting EDF parameters from /content/drive/MyDrive/MDDdataset/controlEO/MDDEO/ H S2 EO.edf...\n",
            "EDF file detected\n",
            "Setting channel info structure...\n",
            "Creating raw.info structure...\n",
            "Reading 0 ... 77311  =      0.000 ...   301.996 secs...\n"
          ]
        },
        {
          "output_type": "stream",
          "name": "stderr",
          "text": [
            "\r 11%|█▏        | 7/62 [00:13<01:30,  1.65s/it]"
          ]
        },
        {
          "output_type": "stream",
          "name": "stdout",
          "text": [
            " H S2 EO.edf False\n",
            "Extracting EDF parameters from /content/drive/MyDrive/MDDdataset/controlEO/MDDEO/ H S20 EO.edf...\n",
            "EDF file detected\n",
            "Setting channel info structure...\n",
            "Creating raw.info structure...\n",
            "Reading 0 ... 81919  =      0.000 ...   319.996 secs...\n"
          ]
        },
        {
          "output_type": "stream",
          "name": "stderr",
          "text": [
            "\r 13%|█▎        | 8/62 [00:14<01:22,  1.54s/it]"
          ]
        },
        {
          "output_type": "stream",
          "name": "stdout",
          "text": [
            " H S20 EO.edf False\n",
            "Extracting EDF parameters from /content/drive/MyDrive/MDDdataset/controlEO/MDDEO/ H S24 EO.edf...\n",
            "EDF file detected\n",
            "Setting channel info structure...\n",
            "Creating raw.info structure...\n",
            "Reading 0 ... 76031  =      0.000 ...   296.996 secs...\n"
          ]
        },
        {
          "output_type": "stream",
          "name": "stderr",
          "text": [
            "\r 15%|█▍        | 9/62 [00:15<01:06,  1.26s/it]"
          ]
        },
        {
          "output_type": "stream",
          "name": "stdout",
          "text": [
            " H S24 EO.edf False\n",
            "Extracting EDF parameters from /content/drive/MyDrive/MDDdataset/controlEO/MDDEO/ H S26 EO.edf...\n",
            "EDF file detected\n",
            "Setting channel info structure...\n",
            "Creating raw.info structure...\n",
            "Reading 0 ... 78079  =      0.000 ...   304.996 secs...\n"
          ]
        },
        {
          "output_type": "stream",
          "name": "stderr",
          "text": [
            "\r 16%|█▌        | 10/62 [00:17<01:19,  1.53s/it]"
          ]
        },
        {
          "output_type": "stream",
          "name": "stdout",
          "text": [
            " H S26 EO.edf False\n",
            "Extracting EDF parameters from /content/drive/MyDrive/MDDdataset/controlEO/MDDEO/ H S27 EO.edf...\n",
            "EDF file detected\n",
            "Setting channel info structure...\n",
            "Creating raw.info structure...\n",
            "Reading 0 ... 76799  =      0.000 ...   299.996 secs...\n"
          ]
        },
        {
          "output_type": "stream",
          "name": "stderr",
          "text": [
            "\r 18%|█▊        | 11/62 [00:18<01:12,  1.43s/it]"
          ]
        },
        {
          "output_type": "stream",
          "name": "stdout",
          "text": [
            " H S27 EO.edf False\n",
            "Extracting EDF parameters from /content/drive/MyDrive/MDDdataset/controlEO/MDDEO/ H S29 EO.edf...\n",
            "EDF file detected\n",
            "Setting channel info structure...\n",
            "Creating raw.info structure...\n",
            "Reading 0 ... 77055  =      0.000 ...   300.996 secs...\n"
          ]
        },
        {
          "output_type": "stream",
          "name": "stderr",
          "text": [
            "\r 19%|█▉        | 12/62 [00:20<01:11,  1.43s/it]"
          ]
        },
        {
          "output_type": "stream",
          "name": "stdout",
          "text": [
            " H S29 EO.edf False\n",
            "Extracting EDF parameters from /content/drive/MyDrive/MDDdataset/controlEO/MDDEO/ H S3 EO.edf...\n",
            "EDF file detected\n",
            "Setting channel info structure...\n",
            "Creating raw.info structure...\n",
            "Reading 0 ... 78079  =      0.000 ...   304.996 secs...\n"
          ]
        },
        {
          "output_type": "stream",
          "name": "stderr",
          "text": [
            "\r 21%|██        | 13/62 [00:22<01:17,  1.58s/it]"
          ]
        },
        {
          "output_type": "stream",
          "name": "stdout",
          "text": [
            " H S3 EO.edf False\n",
            "Extracting EDF parameters from /content/drive/MyDrive/MDDdataset/controlEO/MDDEO/ H S30 EO.edf...\n",
            "EDF file detected\n",
            "Setting channel info structure...\n",
            "Creating raw.info structure...\n",
            "Reading 0 ... 76799  =      0.000 ...   299.996 secs...\n"
          ]
        },
        {
          "output_type": "stream",
          "name": "stderr",
          "text": [
            "\r 23%|██▎       | 14/62 [00:23<01:11,  1.48s/it]"
          ]
        },
        {
          "output_type": "stream",
          "name": "stdout",
          "text": [
            " H S30 EO.edf False\n",
            "Extracting EDF parameters from /content/drive/MyDrive/MDDdataset/controlEO/MDDEO/ H S4 EO.edf...\n",
            "EDF file detected\n",
            "Setting channel info structure...\n",
            "Creating raw.info structure...\n",
            "Reading 0 ... 75519  =      0.000 ...   294.996 secs...\n"
          ]
        },
        {
          "output_type": "stream",
          "name": "stderr",
          "text": [
            "\r 24%|██▍       | 15/62 [00:26<01:23,  1.78s/it]"
          ]
        },
        {
          "output_type": "stream",
          "name": "stdout",
          "text": [
            " H S4 EO.edf False\n",
            "Extracting EDF parameters from /content/drive/MyDrive/MDDdataset/controlEO/MDDEO/ H S5 EO.edf...\n",
            "EDF file detected\n",
            "Setting channel info structure...\n",
            "Creating raw.info structure...\n",
            "Reading 0 ... 79871  =      0.000 ...   311.996 secs...\n"
          ]
        },
        {
          "output_type": "stream",
          "name": "stderr",
          "text": [
            "\r 26%|██▌       | 16/62 [00:27<01:13,  1.59s/it]"
          ]
        },
        {
          "output_type": "stream",
          "name": "stdout",
          "text": [
            " H S5 EO.edf False\n",
            "Extracting EDF parameters from /content/drive/MyDrive/MDDdataset/controlEO/MDDEO/ H S6 EO.edf...\n",
            "EDF file detected\n",
            "Setting channel info structure...\n",
            "Creating raw.info structure...\n",
            "Reading 0 ... 77567  =      0.000 ...   302.996 secs...\n"
          ]
        },
        {
          "output_type": "stream",
          "name": "stderr",
          "text": [
            "\r 27%|██▋       | 17/62 [00:28<01:08,  1.52s/it]"
          ]
        },
        {
          "output_type": "stream",
          "name": "stdout",
          "text": [
            " H S6 EO.edf False\n",
            "Extracting EDF parameters from /content/drive/MyDrive/MDDdataset/controlEO/MDDEO/ H S8 EO.edf...\n",
            "EDF file detected\n",
            "Setting channel info structure...\n",
            "Creating raw.info structure...\n",
            "Reading 0 ... 77311  =      0.000 ...   301.996 secs...\n"
          ]
        },
        {
          "output_type": "stream",
          "name": "stderr",
          "text": [
            "\r 29%|██▉       | 18/62 [00:30<01:15,  1.71s/it]"
          ]
        },
        {
          "output_type": "stream",
          "name": "stdout",
          "text": [
            " H S8 EO.edf False\n",
            "Extracting EDF parameters from /content/drive/MyDrive/MDDdataset/controlEO/MDDEO/H S12 EO.edf...\n",
            "EDF file detected\n",
            "Setting channel info structure...\n",
            "Creating raw.info structure...\n",
            "Reading 0 ... 76799  =      0.000 ...   299.996 secs...\n"
          ]
        },
        {
          "output_type": "stream",
          "name": "stderr",
          "text": [
            "\r 31%|███       | 19/62 [00:31<01:06,  1.54s/it]"
          ]
        },
        {
          "output_type": "stream",
          "name": "stdout",
          "text": [
            "H S12 EO.edf False\n",
            "Extracting EDF parameters from /content/drive/MyDrive/MDDdataset/controlEO/MDDEO/H S15 EO (1).edf...\n",
            "EDF file detected\n",
            "Setting channel info structure...\n",
            "Creating raw.info structure...\n",
            "Reading 0 ... 77311  =      0.000 ...   301.996 secs...\n"
          ]
        },
        {
          "output_type": "stream",
          "name": "stderr",
          "text": [
            "\r 32%|███▏      | 20/62 [00:33<01:01,  1.47s/it]"
          ]
        },
        {
          "output_type": "stream",
          "name": "stdout",
          "text": [
            "H S15 EO (1).edf False\n",
            "Extracting EDF parameters from /content/drive/MyDrive/MDDdataset/controlEO/MDDEO/H S15 EO.edf...\n",
            "EDF file detected\n",
            "Setting channel info structure...\n",
            "Creating raw.info structure...\n",
            "Reading 0 ... 77311  =      0.000 ...   301.996 secs...\n"
          ]
        },
        {
          "output_type": "stream",
          "name": "stderr",
          "text": [
            "\r 34%|███▍      | 21/62 [00:34<00:58,  1.44s/it]"
          ]
        },
        {
          "output_type": "stream",
          "name": "stdout",
          "text": [
            "H S15 EO.edf False\n",
            "Extracting EDF parameters from /content/drive/MyDrive/MDDdataset/controlEO/MDDEO/H S16 EO.edf...\n",
            "EDF file detected\n",
            "Setting channel info structure...\n",
            "Creating raw.info structure...\n",
            "Reading 0 ... 76543  =      0.000 ...   298.996 secs...\n"
          ]
        },
        {
          "output_type": "stream",
          "name": "stderr",
          "text": [
            "\r 35%|███▌      | 22/62 [00:35<00:50,  1.27s/it]"
          ]
        },
        {
          "output_type": "stream",
          "name": "stdout",
          "text": [
            "H S16 EO.edf False\n",
            "Extracting EDF parameters from /content/drive/MyDrive/MDDdataset/controlEO/MDDEO/H S17 EO.edf...\n",
            "EDF file detected\n",
            "Setting channel info structure...\n",
            "Creating raw.info structure...\n",
            "Reading 0 ... 77055  =      0.000 ...   300.996 secs...\n"
          ]
        },
        {
          "output_type": "stream",
          "name": "stderr",
          "text": [
            "\r 37%|███▋      | 23/62 [00:36<00:48,  1.25s/it]"
          ]
        },
        {
          "output_type": "stream",
          "name": "stdout",
          "text": [
            "H S17 EO.edf False\n",
            "Extracting EDF parameters from /content/drive/MyDrive/MDDdataset/controlEO/MDDEO/H S19 EO.edf...\n",
            "EDF file detected\n",
            "Setting channel info structure...\n",
            "Creating raw.info structure...\n",
            "Reading 0 ... 77055  =      0.000 ...   300.996 secs...\n"
          ]
        },
        {
          "output_type": "stream",
          "name": "stderr",
          "text": [
            "\r 39%|███▊      | 24/62 [00:38<00:50,  1.32s/it]"
          ]
        },
        {
          "output_type": "stream",
          "name": "stdout",
          "text": [
            "H S19 EO.edf False\n",
            "Extracting EDF parameters from /content/drive/MyDrive/MDDdataset/controlEO/MDDEO/H S21 EO.edf...\n",
            "EDF file detected\n",
            "Setting channel info structure...\n",
            "Creating raw.info structure...\n",
            "Reading 0 ... 78079  =      0.000 ...   304.996 secs...\n"
          ]
        },
        {
          "output_type": "stream",
          "name": "stderr",
          "text": [
            "\r 40%|████      | 25/62 [00:39<00:55,  1.49s/it]"
          ]
        },
        {
          "output_type": "stream",
          "name": "stdout",
          "text": [
            "H S21 EO.edf False\n",
            "Extracting EDF parameters from /content/drive/MyDrive/MDDdataset/controlEO/MDDEO/H S22 EO.edf...\n",
            "EDF file detected\n",
            "Setting channel info structure...\n",
            "Creating raw.info structure...\n",
            "Reading 0 ... 76543  =      0.000 ...   298.996 secs...\n"
          ]
        },
        {
          "output_type": "stream",
          "name": "stderr",
          "text": [
            "\r 42%|████▏     | 26/62 [00:41<00:49,  1.38s/it]"
          ]
        },
        {
          "output_type": "stream",
          "name": "stdout",
          "text": [
            "H S22 EO.edf False\n",
            "Extracting EDF parameters from /content/drive/MyDrive/MDDdataset/controlEO/MDDEO/H S23 EO.edf...\n",
            "EDF file detected\n",
            "Setting channel info structure...\n",
            "Creating raw.info structure...\n",
            "Reading 0 ... 77311  =      0.000 ...   301.996 secs...\n"
          ]
        },
        {
          "output_type": "stream",
          "name": "stderr",
          "text": [
            "\r 44%|████▎     | 27/62 [00:42<00:50,  1.44s/it]"
          ]
        },
        {
          "output_type": "stream",
          "name": "stdout",
          "text": [
            "H S23 EO.edf False\n",
            "Extracting EDF parameters from /content/drive/MyDrive/MDDdataset/controlEO/MDDEO/H S28 EO.edf...\n",
            "EDF file detected\n",
            "Setting channel info structure...\n",
            "Creating raw.info structure...\n",
            "Reading 0 ... 76543  =      0.000 ...   298.996 secs...\n"
          ]
        },
        {
          "output_type": "stream",
          "name": "stderr",
          "text": [
            "\r 45%|████▌     | 28/62 [00:43<00:47,  1.40s/it]"
          ]
        },
        {
          "output_type": "stream",
          "name": "stdout",
          "text": [
            "H S28 EO.edf False\n",
            "Extracting EDF parameters from /content/drive/MyDrive/MDDdataset/controlEO/MDDEO/H S7 EO.edf...\n",
            "EDF file detected\n",
            "Setting channel info structure...\n",
            "Creating raw.info structure...\n",
            "Reading 0 ... 77567  =      0.000 ...   302.996 secs...\n"
          ]
        },
        {
          "output_type": "stream",
          "name": "stderr",
          "text": [
            "\r 47%|████▋     | 29/62 [00:46<00:53,  1.62s/it]"
          ]
        },
        {
          "output_type": "stream",
          "name": "stdout",
          "text": [
            "H S7 EO.edf False\n",
            "Extracting EDF parameters from /content/drive/MyDrive/MDDdataset/controlEO/MDDEO/H S9 EO.edf...\n",
            "EDF file detected\n",
            "Setting channel info structure...\n",
            "Creating raw.info structure...\n",
            "Reading 0 ... 77311  =      0.000 ...   301.996 secs...\n"
          ]
        },
        {
          "output_type": "stream",
          "name": "stderr",
          "text": [
            "\r 48%|████▊     | 30/62 [00:48<00:55,  1.74s/it]"
          ]
        },
        {
          "output_type": "stream",
          "name": "stdout",
          "text": [
            "H S9 EO.edf False\n",
            "Extracting EDF parameters from /content/drive/MyDrive/MDDdataset/controlEO/MDDEO/MDD S1  EO.edf...\n",
            "EDF file detected\n",
            "Setting channel info structure...\n",
            "Creating raw.info structure...\n",
            "Reading 0 ... 77055  =      0.000 ...   300.996 secs...\n"
          ]
        },
        {
          "output_type": "stream",
          "name": "stderr",
          "text": [
            "\r 50%|█████     | 31/62 [00:49<00:55,  1.78s/it]"
          ]
        },
        {
          "output_type": "stream",
          "name": "stdout",
          "text": [
            "MDD S1  EO.edf True\n",
            "Extracting EDF parameters from /content/drive/MyDrive/MDDdataset/controlEO/MDDEO/MDD S10 EO.edf...\n",
            "EDF file detected\n",
            "Setting channel info structure...\n",
            "Creating raw.info structure...\n",
            "Reading 0 ... 76799  =      0.000 ...   299.996 secs...\n"
          ]
        },
        {
          "output_type": "stream",
          "name": "stderr",
          "text": [
            "\r 52%|█████▏    | 32/62 [00:50<00:42,  1.43s/it]"
          ]
        },
        {
          "output_type": "stream",
          "name": "stdout",
          "text": [
            "MDD S10 EO.edf True\n",
            "Extracting EDF parameters from /content/drive/MyDrive/MDDdataset/controlEO/MDDEO/MDD S11 EO.edf...\n",
            "EDF file detected\n",
            "Setting channel info structure...\n",
            "Creating raw.info structure...\n",
            "Reading 0 ... 76543  =      0.000 ...   298.996 secs...\n"
          ]
        },
        {
          "output_type": "stream",
          "name": "stderr",
          "text": [
            "\r 53%|█████▎    | 33/62 [00:52<00:43,  1.50s/it]"
          ]
        },
        {
          "output_type": "stream",
          "name": "stdout",
          "text": [
            "MDD S11 EO.edf True\n",
            "Extracting EDF parameters from /content/drive/MyDrive/MDDdataset/controlEO/MDDEO/MDD S12 EO.edf...\n",
            "EDF file detected\n",
            "Setting channel info structure...\n",
            "Creating raw.info structure...\n",
            "Reading 0 ... 48383  =      0.000 ...   188.996 secs...\n"
          ]
        },
        {
          "output_type": "stream",
          "name": "stderr",
          "text": [
            "\r 55%|█████▍    | 34/62 [00:53<00:36,  1.29s/it]"
          ]
        },
        {
          "output_type": "stream",
          "name": "stdout",
          "text": [
            "MDD S12 EO.edf True\n",
            "Extracting EDF parameters from /content/drive/MyDrive/MDDdataset/controlEO/MDDEO/MDD S13 EO.edf...\n",
            "EDF file detected\n",
            "Setting channel info structure...\n",
            "Creating raw.info structure...\n",
            "Reading 0 ... 79615  =      0.000 ...   310.996 secs...\n"
          ]
        },
        {
          "output_type": "stream",
          "name": "stderr",
          "text": [
            "\r 56%|█████▋    | 35/62 [00:54<00:35,  1.32s/it]"
          ]
        },
        {
          "output_type": "stream",
          "name": "stdout",
          "text": [
            "MDD S13 EO.edf True\n",
            "Extracting EDF parameters from /content/drive/MyDrive/MDDdataset/controlEO/MDDEO/MDD S14 EO.edf...\n",
            "EDF file detected\n",
            "Setting channel info structure...\n",
            "Creating raw.info structure...\n",
            "Reading 0 ... 77055  =      0.000 ...   300.996 secs...\n"
          ]
        },
        {
          "output_type": "stream",
          "name": "stderr",
          "text": [
            "\r 58%|█████▊    | 36/62 [00:55<00:35,  1.35s/it]"
          ]
        },
        {
          "output_type": "stream",
          "name": "stdout",
          "text": [
            "MDD S14 EO.edf True\n",
            "Extracting EDF parameters from /content/drive/MyDrive/MDDdataset/controlEO/MDDEO/MDD S15 EO.edf...\n",
            "EDF file detected\n",
            "Setting channel info structure...\n",
            "Creating raw.info structure...\n",
            "Reading 0 ... 76799  =      0.000 ...   299.996 secs...\n"
          ]
        },
        {
          "output_type": "stream",
          "name": "stderr",
          "text": [
            "\r 60%|█████▉    | 37/62 [00:56<00:29,  1.19s/it]"
          ]
        },
        {
          "output_type": "stream",
          "name": "stdout",
          "text": [
            "MDD S15 EO.edf True\n",
            "Extracting EDF parameters from /content/drive/MyDrive/MDDdataset/controlEO/MDDEO/MDD S16 EO.edf...\n",
            "EDF file detected\n",
            "Setting channel info structure...\n",
            "Creating raw.info structure...\n",
            "Reading 0 ... 76287  =      0.000 ...   297.996 secs...\n"
          ]
        },
        {
          "output_type": "stream",
          "name": "stderr",
          "text": [
            "\r 61%|██████▏   | 38/62 [00:58<00:35,  1.47s/it]"
          ]
        },
        {
          "output_type": "stream",
          "name": "stdout",
          "text": [
            "MDD S16 EO.edf True\n",
            "Extracting EDF parameters from /content/drive/MyDrive/MDDdataset/controlEO/MDDEO/MDD S17 EO.edf...\n",
            "EDF file detected\n",
            "Setting channel info structure...\n",
            "Creating raw.info structure...\n",
            "Reading 0 ... 76543  =      0.000 ...   298.996 secs...\n"
          ]
        },
        {
          "output_type": "stream",
          "name": "stderr",
          "text": [
            "\r 63%|██████▎   | 39/62 [01:00<00:32,  1.42s/it]"
          ]
        },
        {
          "output_type": "stream",
          "name": "stdout",
          "text": [
            "MDD S17 EO.edf True\n",
            "Extracting EDF parameters from /content/drive/MyDrive/MDDdataset/controlEO/MDDEO/MDD S18 EO.edf...\n",
            "EDF file detected\n",
            "Setting channel info structure...\n",
            "Creating raw.info structure...\n",
            "Reading 0 ... 77311  =      0.000 ...   301.996 secs...\n"
          ]
        },
        {
          "output_type": "stream",
          "name": "stderr",
          "text": [
            "\r 65%|██████▍   | 40/62 [01:01<00:30,  1.40s/it]"
          ]
        },
        {
          "output_type": "stream",
          "name": "stdout",
          "text": [
            "MDD S18 EO.edf True\n",
            "Extracting EDF parameters from /content/drive/MyDrive/MDDdataset/controlEO/MDDEO/MDD S19 EO.edf...\n",
            "EDF file detected\n",
            "Setting channel info structure...\n",
            "Creating raw.info structure...\n",
            "Reading 0 ... 76287  =      0.000 ...   297.996 secs...\n"
          ]
        },
        {
          "output_type": "stream",
          "name": "stderr",
          "text": [
            "\r 66%|██████▌   | 41/62 [01:02<00:25,  1.21s/it]"
          ]
        },
        {
          "output_type": "stream",
          "name": "stdout",
          "text": [
            "MDD S19 EO.edf True\n",
            "Extracting EDF parameters from /content/drive/MyDrive/MDDdataset/controlEO/MDDEO/MDD S2 EO.edf...\n",
            "EDF file detected\n",
            "Setting channel info structure...\n",
            "Creating raw.info structure...\n",
            "Reading 0 ... 76031  =      0.000 ...   296.996 secs...\n"
          ]
        },
        {
          "output_type": "stream",
          "name": "stderr",
          "text": [
            "\r 68%|██████▊   | 42/62 [01:03<00:23,  1.20s/it]"
          ]
        },
        {
          "output_type": "stream",
          "name": "stdout",
          "text": [
            "MDD S2 EO.edf True\n",
            "Extracting EDF parameters from /content/drive/MyDrive/MDDdataset/controlEO/MDDEO/MDD S20 EO.edf...\n",
            "EDF file detected\n",
            "Setting channel info structure...\n",
            "Creating raw.info structure...\n",
            "Reading 0 ... 77311  =      0.000 ...   301.996 secs...\n"
          ]
        },
        {
          "output_type": "stream",
          "name": "stderr",
          "text": [
            "\r 69%|██████▉   | 43/62 [01:04<00:24,  1.27s/it]"
          ]
        },
        {
          "output_type": "stream",
          "name": "stdout",
          "text": [
            "MDD S20 EO.edf True\n",
            "Extracting EDF parameters from /content/drive/MyDrive/MDDdataset/controlEO/MDDEO/MDD S21 EO.edf...\n",
            "EDF file detected\n",
            "Setting channel info structure...\n",
            "Creating raw.info structure...\n",
            "Reading 0 ... 76799  =      0.000 ...   299.996 secs...\n"
          ]
        },
        {
          "output_type": "stream",
          "name": "stderr",
          "text": [
            "\r 71%|███████   | 44/62 [01:06<00:24,  1.36s/it]"
          ]
        },
        {
          "output_type": "stream",
          "name": "stdout",
          "text": [
            "MDD S21 EO.edf True\n",
            "Extracting EDF parameters from /content/drive/MyDrive/MDDdataset/controlEO/MDDEO/MDD S22 EO.edf...\n",
            "EDF file detected\n",
            "Setting channel info structure...\n",
            "Creating raw.info structure...\n",
            "Reading 0 ... 76031  =      0.000 ...   296.996 secs...\n"
          ]
        },
        {
          "output_type": "stream",
          "name": "stderr",
          "text": [
            "\r 73%|███████▎  | 45/62 [01:07<00:22,  1.32s/it]"
          ]
        },
        {
          "output_type": "stream",
          "name": "stdout",
          "text": [
            "MDD S22 EO.edf True\n",
            "Extracting EDF parameters from /content/drive/MyDrive/MDDdataset/controlEO/MDDEO/MDD S23 EO.edf...\n",
            "EDF file detected\n",
            "Setting channel info structure...\n",
            "Creating raw.info structure...\n",
            "Reading 0 ... 78591  =      0.000 ...   306.996 secs...\n"
          ]
        },
        {
          "output_type": "stream",
          "name": "stderr",
          "text": [
            "\r 74%|███████▍  | 46/62 [01:09<00:21,  1.34s/it]"
          ]
        },
        {
          "output_type": "stream",
          "name": "stdout",
          "text": [
            "MDD S23 EO.edf True\n",
            "Extracting EDF parameters from /content/drive/MyDrive/MDDdataset/controlEO/MDDEO/MDD S24 EO.edf...\n",
            "EDF file detected\n",
            "Setting channel info structure...\n",
            "Creating raw.info structure...\n",
            "Reading 0 ... 76799  =      0.000 ...   299.996 secs...\n"
          ]
        },
        {
          "output_type": "stream",
          "name": "stderr",
          "text": [
            "\r 76%|███████▌  | 47/62 [01:10<00:20,  1.37s/it]"
          ]
        },
        {
          "output_type": "stream",
          "name": "stdout",
          "text": [
            "MDD S24 EO.edf True\n",
            "Extracting EDF parameters from /content/drive/MyDrive/MDDdataset/controlEO/MDDEO/MDD S25 EO.edf...\n",
            "EDF file detected\n",
            "Setting channel info structure...\n",
            "Creating raw.info structure...\n",
            "Reading 0 ... 76799  =      0.000 ...   299.996 secs...\n"
          ]
        },
        {
          "output_type": "stream",
          "name": "stderr",
          "text": [
            "\r 77%|███████▋  | 48/62 [01:11<00:19,  1.41s/it]"
          ]
        },
        {
          "output_type": "stream",
          "name": "stdout",
          "text": [
            "MDD S25 EO.edf True\n",
            "Extracting EDF parameters from /content/drive/MyDrive/MDDdataset/controlEO/MDDEO/MDD S26 EO.edf...\n",
            "EDF file detected\n",
            "Setting channel info structure...\n",
            "Creating raw.info structure...\n",
            "Reading 0 ... 76799  =      0.000 ...   299.996 secs...\n"
          ]
        },
        {
          "output_type": "stream",
          "name": "stderr",
          "text": [
            "\r 79%|███████▉  | 49/62 [01:13<00:18,  1.39s/it]"
          ]
        },
        {
          "output_type": "stream",
          "name": "stdout",
          "text": [
            "MDD S26 EO.edf True\n",
            "Extracting EDF parameters from /content/drive/MyDrive/MDDdataset/controlEO/MDDEO/MDD S27 EO.edf...\n",
            "EDF file detected\n",
            "Setting channel info structure...\n",
            "Creating raw.info structure...\n",
            "Reading 0 ... 76543  =      0.000 ...   298.996 secs...\n"
          ]
        },
        {
          "output_type": "stream",
          "name": "stderr",
          "text": [
            "\r 81%|████████  | 50/62 [01:14<00:17,  1.49s/it]"
          ]
        },
        {
          "output_type": "stream",
          "name": "stdout",
          "text": [
            "MDD S27 EO.edf True\n",
            "Extracting EDF parameters from /content/drive/MyDrive/MDDdataset/controlEO/MDDEO/MDD S28 EO.edf...\n",
            "EDF file detected\n",
            "Setting channel info structure...\n",
            "Creating raw.info structure...\n",
            "Reading 0 ... 77311  =      0.000 ...   301.996 secs...\n"
          ]
        },
        {
          "output_type": "stream",
          "name": "stderr",
          "text": [
            "\r 82%|████████▏ | 51/62 [01:15<00:13,  1.24s/it]"
          ]
        },
        {
          "output_type": "stream",
          "name": "stdout",
          "text": [
            "MDD S28 EO.edf True\n",
            "Extracting EDF parameters from /content/drive/MyDrive/MDDdataset/controlEO/MDDEO/MDD S29 EO.edf...\n",
            "EDF file detected\n",
            "Setting channel info structure...\n",
            "Creating raw.info structure...\n",
            "Reading 0 ... 76799  =      0.000 ...   299.996 secs...\n"
          ]
        },
        {
          "output_type": "stream",
          "name": "stderr",
          "text": [
            "\r 84%|████████▍ | 52/62 [01:16<00:12,  1.24s/it]"
          ]
        },
        {
          "output_type": "stream",
          "name": "stdout",
          "text": [
            "MDD S29 EO.edf True\n",
            "Extracting EDF parameters from /content/drive/MyDrive/MDDdataset/controlEO/MDDEO/MDD S3 EO.edf...\n",
            "EDF file detected\n",
            "Setting channel info structure...\n",
            "Creating raw.info structure...\n",
            "Reading 0 ... 77055  =      0.000 ...   300.996 secs...\n"
          ]
        },
        {
          "output_type": "stream",
          "name": "stderr",
          "text": [
            "\r 85%|████████▌ | 53/62 [01:17<00:10,  1.16s/it]"
          ]
        },
        {
          "output_type": "stream",
          "name": "stdout",
          "text": [
            "MDD S3 EO.edf True\n",
            "Extracting EDF parameters from /content/drive/MyDrive/MDDdataset/controlEO/MDDEO/MDD S30 EO.edf...\n",
            "EDF file detected\n",
            "Setting channel info structure...\n",
            "Creating raw.info structure...\n",
            "Reading 0 ... 76799  =      0.000 ...   299.996 secs...\n"
          ]
        },
        {
          "output_type": "stream",
          "name": "stderr",
          "text": [
            "\r 87%|████████▋ | 54/62 [01:18<00:08,  1.01s/it]"
          ]
        },
        {
          "output_type": "stream",
          "name": "stdout",
          "text": [
            "MDD S30 EO.edf True\n",
            "Extracting EDF parameters from /content/drive/MyDrive/MDDdataset/controlEO/MDDEO/MDD S31 EO.edf...\n",
            "EDF file detected\n",
            "Setting channel info structure...\n",
            "Creating raw.info structure...\n",
            "Reading 0 ... 77055  =      0.000 ...   300.996 secs...\n"
          ]
        },
        {
          "output_type": "stream",
          "name": "stderr",
          "text": [
            "\r 89%|████████▊ | 55/62 [01:20<00:09,  1.35s/it]"
          ]
        },
        {
          "output_type": "stream",
          "name": "stdout",
          "text": [
            "MDD S31 EO.edf True\n",
            "Extracting EDF parameters from /content/drive/MyDrive/MDDdataset/controlEO/MDDEO/MDD S32 EO.edf...\n",
            "EDF file detected\n",
            "Setting channel info structure...\n",
            "Creating raw.info structure...\n",
            "Reading 0 ... 76799  =      0.000 ...   299.996 secs...\n"
          ]
        },
        {
          "output_type": "stream",
          "name": "stderr",
          "text": [
            "\r 90%|█████████ | 56/62 [01:23<00:09,  1.67s/it]"
          ]
        },
        {
          "output_type": "stream",
          "name": "stdout",
          "text": [
            "MDD S32 EO.edf True\n",
            "Extracting EDF parameters from /content/drive/MyDrive/MDDdataset/controlEO/MDDEO/MDD S33 EO.edf...\n",
            "EDF file detected\n",
            "Setting channel info structure...\n",
            "Creating raw.info structure...\n",
            "Reading 0 ... 75775  =      0.000 ...   295.996 secs...\n"
          ]
        },
        {
          "output_type": "stream",
          "name": "stderr",
          "text": [
            "\r 92%|█████████▏| 57/62 [01:24<00:07,  1.53s/it]"
          ]
        },
        {
          "output_type": "stream",
          "name": "stdout",
          "text": [
            "MDD S33 EO.edf True\n",
            "Extracting EDF parameters from /content/drive/MyDrive/MDDdataset/controlEO/MDDEO/MDD S34 EO.edf...\n",
            "EDF file detected\n",
            "Setting channel info structure...\n",
            "Creating raw.info structure...\n",
            "Reading 0 ... 75775  =      0.000 ...   295.996 secs...\n"
          ]
        },
        {
          "output_type": "stream",
          "name": "stderr",
          "text": [
            "\r 94%|█████████▎| 58/62 [01:25<00:05,  1.46s/it]"
          ]
        },
        {
          "output_type": "stream",
          "name": "stdout",
          "text": [
            "MDD S34 EO.edf True\n",
            "Extracting EDF parameters from /content/drive/MyDrive/MDDdataset/controlEO/MDDEO/MDD S4 EO.edf...\n",
            "EDF file detected\n",
            "Setting channel info structure...\n",
            "Creating raw.info structure...\n",
            "Reading 0 ... 77055  =      0.000 ...   300.996 secs...\n"
          ]
        },
        {
          "output_type": "stream",
          "name": "stderr",
          "text": [
            "\r 95%|█████████▌| 59/62 [01:27<00:04,  1.66s/it]"
          ]
        },
        {
          "output_type": "stream",
          "name": "stdout",
          "text": [
            "MDD S4 EO.edf True\n",
            "Extracting EDF parameters from /content/drive/MyDrive/MDDdataset/controlEO/MDDEO/MDD S5 EO.edf...\n",
            "EDF file detected\n",
            "Setting channel info structure...\n",
            "Creating raw.info structure...\n",
            "Reading 0 ... 77311  =      0.000 ...   301.996 secs...\n"
          ]
        },
        {
          "output_type": "stream",
          "name": "stderr",
          "text": [
            "\r 97%|█████████▋| 60/62 [01:29<00:03,  1.73s/it]"
          ]
        },
        {
          "output_type": "stream",
          "name": "stdout",
          "text": [
            "MDD S5 EO.edf True\n",
            "Extracting EDF parameters from /content/drive/MyDrive/MDDdataset/controlEO/MDDEO/MDD S6 EO.edf...\n",
            "EDF file detected\n",
            "Setting channel info structure...\n",
            "Creating raw.info structure...\n",
            "Reading 0 ... 77055  =      0.000 ...   300.996 secs...\n"
          ]
        },
        {
          "output_type": "stream",
          "name": "stderr",
          "text": [
            "\r 98%|█████████▊| 61/62 [01:30<00:01,  1.58s/it]"
          ]
        },
        {
          "output_type": "stream",
          "name": "stdout",
          "text": [
            "MDD S6 EO.edf True\n",
            "Extracting EDF parameters from /content/drive/MyDrive/MDDdataset/controlEO/MDDEO/MDD S9 EO.edf...\n",
            "EDF file detected\n",
            "Setting channel info structure...\n",
            "Creating raw.info structure...\n",
            "Reading 0 ... 76799  =      0.000 ...   299.996 secs...\n"
          ]
        },
        {
          "output_type": "stream",
          "name": "stderr",
          "text": [
            "100%|██████████| 62/62 [01:31<00:00,  1.48s/it]"
          ]
        },
        {
          "output_type": "stream",
          "name": "stdout",
          "text": [
            "MDD S9 EO.edf True\n",
            "Shape of data: (62,)\n",
            "Total len of data 62\n"
          ]
        },
        {
          "output_type": "stream",
          "name": "stderr",
          "text": [
            "\n"
          ]
        }
      ]
    },
    {
      "cell_type": "code",
      "source": [
        "#for i in range(len(data)):\n",
        "d1 = data[1]\n",
        "edf = d1[\"img\"]\n",
        "edf.plot_psd()\n",
        "print(d1[\"label\"])\n",
        "    "
      ],
      "metadata": {
        "id": "mj_fPfIg-b4-"
      },
      "execution_count": null,
      "outputs": []
    },
    {
      "cell_type": "code",
      "source": [
        "from numpy.lib.function_base import percentile\n",
        "from scipy.integrate import simps\n",
        "import math\n",
        "import numpy as np\n",
        "from scipy import signal\n",
        "import numpy as np\n",
        "from sklearn import preprocessing\n",
        "\n",
        "X = []\n",
        "y = []\n",
        "prev_sf = 0\n",
        "for d in tqdm(data):\n",
        "  sf = d[\"sfreq\"]\n",
        "  assert(prev_sf == 0 or sf == prev_sf) # double check on sampling frequency\n",
        "  window = signal.windows.hann(5)\n",
        "  img = d[\"img\"].get_data().transpose()\n",
        "  freqs, pp = signal.welch(img.transpose(), sf, nperseg=1024) # default overlap 50%\n",
        "  ppdb = 10 * np.log10(pp)\n",
        "  y.append(d[\"label\"])\n",
        "\n",
        "  X.append(ppdb)\n",
        "X =  np.array(X)\n",
        "y = np.array(y)\n",
        "\n",
        "print(\"Total len of data\", X.shape, y.shape)\n"
      ],
      "metadata": {
        "colab": {
          "base_uri": "https://localhost:8080/"
        },
        "id": "uGR2byKW2aa9",
        "outputId": "a8ba6fde-6487-4263-a193-0eb3e1efc813"
      },
      "execution_count": null,
      "outputs": [
        {
          "output_type": "stream",
          "name": "stderr",
          "text": [
            "100%|██████████| 62/62 [00:06<00:00,  9.82it/s]"
          ]
        },
        {
          "output_type": "stream",
          "name": "stdout",
          "text": [
            "Total len of data (62, 19, 513) (62,)\n"
          ]
        },
        {
          "output_type": "stream",
          "name": "stderr",
          "text": [
            "\n"
          ]
        }
      ]
    },
    {
      "cell_type": "code",
      "source": [
        "# for each channel plot psd\n",
        "\n",
        "fig, ax = plt.subplots(1, 1,figsize= (16, 8))\n",
        "\n",
        "for i, c in enumerate(data[0][\"img\"].ch_names):\n",
        "    ax.plot(freqs, X[1, i, :], label=c)\n",
        "\n",
        "ax.legend()\n",
        "ax.set(xlabel=\"freq\", ylabel=\"uV/Hz (dB)\")"
      ],
      "metadata": {
        "id": "bXkp-tSY383P"
      },
      "execution_count": null,
      "outputs": []
    },
    {
      "cell_type": "code",
      "source": [
        "import numpy as np\n",
        "import matplotlib.pyplot as plt\n",
        "import pandas as pd\n",
        "import sklearn\n",
        "from sklearn.model_selection import cross_val_score\n",
        "from sklearn.model_selection import train_test_split\n",
        "\n",
        "from sklearn.neighbors import KNeighborsClassifier\n",
        "\n",
        "# feature extracter\n",
        "X_tmp = X[:, :, (freqs >= 30) & (freqs <= 48)] # extract delta channels\n",
        "X_tmp = X_tmp.reshape(62, -1)\n",
        "\n",
        "\n",
        "X_train, X_test, y_train, y_test = train_test_split(X_tmp, y, test_size = 0.70, random_state = 42)\n",
        "\n",
        "\n",
        "knn = KNeighborsClassifier(n_neighbors=3)\n",
        "\n",
        "#knn.fit(X_train, y_train)\n",
        "#knn.score(X_test, y_test)\n",
        "scores = cross_val_score(knn,X_tmp, y, cv=5)\n",
        "scores"
      ],
      "metadata": {
        "colab": {
          "base_uri": "https://localhost:8080/"
        },
        "id": "tMiDoH554yDr",
        "outputId": "c1f5e9a6-bd91-4b64-eb06-ae1e12547c6e"
      },
      "execution_count": null,
      "outputs": [
        {
          "output_type": "execute_result",
          "data": {
            "text/plain": [
              "array([0.92307692, 0.76923077, 0.83333333, 0.91666667, 0.83333333])"
            ]
          },
          "metadata": {},
          "execution_count": 249
        }
      ]
    }
  ]
}